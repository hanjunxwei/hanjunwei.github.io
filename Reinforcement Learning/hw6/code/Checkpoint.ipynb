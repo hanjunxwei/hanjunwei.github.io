{
 "cells": [
  {
   "cell_type": "code",
   "execution_count": 6,
   "id": "9851030c",
   "metadata": {},
   "outputs": [],
   "source": [
    "import os\n",
    "import sys\n",
    "import gym\n",
    "from pylab import *\n",
    "import numpy as np\n",
    "import tensorflow as tf\n",
    "from reinforce import Reinforce\n",
    "from reinforce_with_baseline import ReinforceWithBaseline\n",
    "from assignment import *"
   ]
  },
  {
   "cell_type": "code",
   "execution_count": 7,
   "id": "c2e1aedf",
   "metadata": {},
   "outputs": [],
   "source": [
    "env         = gym.make(\"CartPole-v1\")\n",
    "state_size  = env.observation_space.shape[0]\n",
    "num_actions = env.action_space.n"
   ]
  },
  {
   "cell_type": "code",
   "execution_count": 8,
   "id": "96f0b846",
   "metadata": {},
   "outputs": [],
   "source": [
    "R   = Reinforce(state_size, num_actions)\n",
    "RwB = ReinforceWithBaseline(state_size, num_actions)"
   ]
  },
  {
   "cell_type": "code",
   "execution_count": 9,
   "id": "84d958b3",
   "metadata": {},
   "outputs": [],
   "source": [
    "episodes = 650"
   ]
  },
  {
   "cell_type": "code",
   "execution_count": 10,
   "id": "ef90ddf7",
   "metadata": {},
   "outputs": [
    {
     "name": "stdout",
     "output_type": "stream",
     "text": [
      "average of the last 50 rewards: 489.86\n"
     ]
    }
   ],
   "source": [
    "# Switch\n",
    "\n",
    "model = RwB\n",
    "\n",
    "total_rewards = []  \n",
    "for i in range(episodes):\n",
    "    reward = train(env, model)\n",
    "    total_rewards.append(reward)\n",
    "print(\"average of the last 50 rewards:\", np.mean(total_rewards[-50:]))\n"
   ]
  },
  {
   "cell_type": "markdown",
   "id": "970393a6",
   "metadata": {},
   "source": [
    "average of the last 50 rewards for reinforce model:               450.38\n",
    "\n",
    "average of the last 50 rewards for reinforce with baseline model: 483.32"
   ]
  }
 ],
 "metadata": {
  "kernelspec": {
   "display_name": "env",
   "language": "python",
   "name": "env"
  },
  "language_info": {
   "codemirror_mode": {
    "name": "ipython",
    "version": 3
   },
   "file_extension": ".py",
   "mimetype": "text/x-python",
   "name": "python",
   "nbconvert_exporter": "python",
   "pygments_lexer": "ipython3",
   "version": "3.9.7"
  }
 },
 "nbformat": 4,
 "nbformat_minor": 5
}
